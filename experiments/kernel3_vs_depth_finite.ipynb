{
 "cells": [
  {
   "cell_type": "code",
   "execution_count": null,
   "id": "6f188ed8",
   "metadata": {},
   "outputs": [],
   "source": [
    "import numpy as np\n",
    "import matplotlib.pyplot as plt\n",
    "import os\n",
    "from infinitewidth.kernel3_infinite import Kernel3Infinite # type: ignore"
   ]
  },
  {
   "cell_type": "code",
   "execution_count": null,
   "id": "16f5ee0e",
   "metadata": {
    "lines_to_next_cell": 1
   },
   "outputs": [],
   "source": [
    "N = 10  # number of data points\n",
    "D_IN = 20  # input dim\n",
    "L_VALUES = np.linspace(2, 20, 18).astype(int)\n",
    "RANDOM_SEED = 42\n",
    "PATH_TO_PLOTS = \"/home/janis/STG3A/deeperorwider/experiments/plots\"\n",
    "PATH_TO_DATA = \"/home/janis/STG3A/deeperorwider/experiments/data\"\n",
    "\n",
    "# ensure paths exist\n",
    "if not os.path.exists(PATH_TO_PLOTS):\n",
    "    os.makedirs(PATH_TO_PLOTS)\n",
    "if not os.path.exists(PATH_TO_DATA):\n",
    "    os.makedirs(PATH_TO_DATA)"
   ]
  },
  {
   "cell_type": "code",
   "execution_count": null,
   "id": "f04ea6f6",
   "metadata": {
    "lines_to_next_cell": 1
   },
   "outputs": [],
   "source": [
    "def generate_data(key, n_samples, n_features):\n",
    "    \"\"\"generate random data and normalize it\"\"\"\n",
    "    rng = np.random.RandomState(key)\n",
    "    data = rng.randn(n_samples, n_features)\n",
    "    norm = np.linalg.norm(data, axis=1, keepdims=True)\n",
    "    return data / norm"
   ]
  },
  {
   "cell_type": "code",
   "execution_count": null,
   "id": "02292693",
   "metadata": {},
   "outputs": [],
   "source": [
    "key_seed = RANDOM_SEED\n",
    "mean_eigenvalues_per_L = []\n",
    "std_eigenvalues_per_L = []\n",
    "inf_norms_per_L = []\n",
    "\n",
    "print(\"starting the analysis of the k3 tensor with the infinite width model...\")\n",
    "for L in L_VALUES:\n",
    "    print(f\"computing for l = {L} layers...\")\n",
    "\n",
    "    infinite_ntk = Kernel3Infinite(n_layers=L, n_outputs=1, a=1.0, b=1.0)\n",
    "    data = generate_data(key_seed, N, D_IN)\n",
    "\n",
    "    # compute the full k3 tensor\n",
    "    k3_tensor = np.zeros((N, N, N))\n",
    "    for i in range(N):\n",
    "        for j in range(i, N):\n",
    "            for k in range(j, N):\n",
    "                val = infinite_ntk._kernel_3_entry(data[i], data[j], data[k])\n",
    "                # apply symmetry\n",
    "                k3_tensor[i, j, k] = k3_tensor[i, k, j] = k3_tensor[j, i, k] = \\\n",
    "                k3_tensor[j, k, i] = k3_tensor[k, i, j] = k3_tensor[k, j, i] = val\n",
    "\n",
    "    # compute infinity norm of the tensor\n",
    "    inf_norm = np.max(np.abs(k3_tensor))\n",
    "    inf_norms_per_L.append(inf_norm)\n",
    "\n",
    "    # analyze eigenvalues of tensor slices\n",
    "    all_slice_eigenvalues = []\n",
    "    for k in range(N):\n",
    "        slice_matrix = k3_tensor[:, :, k]\n",
    "        eigenvalues = np.linalg.eigvalsh(slice_matrix)\n",
    "        all_slice_eigenvalues.append(eigenvalues)\n",
    "    \n",
    "    # calculate mean and std for each eigenvalue order\n",
    "    all_slice_eigenvalues = np.array(all_slice_eigenvalues) # shape (N, N)\n",
    "    mean_eigenvalues_per_L.append(np.mean(all_slice_eigenvalues, axis=0))\n",
    "    std_eigenvalues_per_L.append(np.std(all_slice_eigenvalues, axis=0))\n",
    "\n",
    "# convert lists to numpy arrays for easier indexing\n",
    "mean_eigenvalues_per_L = np.array(mean_eigenvalues_per_L)\n",
    "std_eigenvalues_per_L = np.array(std_eigenvalues_per_L)\n",
    "inf_norms_per_L = np.array(inf_norms_per_L)"
   ]
  },
  {
   "cell_type": "code",
   "execution_count": null,
   "id": "fda46cb1",
   "metadata": {
    "title": "plot 1: infinity norm of k3 tensor vs. l"
   },
   "outputs": [],
   "source": [
    "plt.figure(figsize=(10, 6))\n",
    "plt.title(f\"infinity norm of the k3 tensor vs. network depth (n={N}, d={D_IN})\")\n",
    "plt.plot(L_VALUES, inf_norms_per_L, 'o-')\n",
    "plt.xlabel(\"number of layers (l)\")\n",
    "plt.ylabel(\"infinity norm\")\n",
    "plt.xticks(L_VALUES)\n",
    "plt.yscale('log')\n",
    "plt.grid(True, which=\"both\", ls=\"--\")\n",
    "plt.savefig(PATH_TO_PLOTS + \"/k3_inf_norm_vs_L_infinite.png\")\n",
    "print(\"k3 infinity norm plot saved to \" + PATH_TO_PLOTS + \"/k3_inf_norm_vs_L_infinite.png\")"
   ]
  },
  {
   "cell_type": "code",
   "execution_count": null,
   "id": "30c642e4",
   "metadata": {
    "title": "plot 2: mean eigenvalues of k3 tensor slices vs. l"
   },
   "outputs": [],
   "source": [
    "plt.figure(figsize=(12, 7))\n",
    "plt.title(f\"mean eigenvalues of k3 tensor slices vs. network depth (n={N}, d={D_IN})\")\n",
    "\n",
    "# plot each eigenvalue order with confidence bars\n",
    "for k in range(N):\n",
    "    means = mean_eigenvalues_per_L[:, k]\n",
    "    stds = std_eigenvalues_per_L[:, k]\n",
    "    p = plt.plot(L_VALUES, means, 'o-', label=f'λ_{k+1}')\n",
    "    plt.fill_between(L_VALUES, means - stds, means + stds, alpha=0.2, color=p[0].get_color())\n",
    "\n",
    "plt.xlabel(\"number of layers (l)\")\n",
    "plt.ylabel(\"mean eigenvalue of slice\")\n",
    "plt.yscale('log')\n",
    "plt.xticks(L_VALUES)\n",
    "plt.grid(True, which=\"both\", ls=\"--\")\n",
    "plt.legend(title=\"eigenvalue order\", bbox_to_anchor=(1.02, 1), loc='upper left', ncol=2)\n",
    "plt.tight_layout(rect=[0, 0, 0.85, 1]) # adjust layout to make room for legend\n",
    "plt.savefig(PATH_TO_PLOTS + \"/k3_slice_eigenvalues_vs_L_infinite.png\")\n",
    "print(\"k3 slice eigenvalues plot saved to \" + PATH_TO_PLOTS + \"/k3_slice_eigenvalues_vs_L_infinite.png\")"
   ]
  },
  {
   "cell_type": "code",
   "execution_count": null,
   "id": "eefb94ac",
   "metadata": {
    "lines_to_next_cell": 2,
    "title": "save data"
   },
   "outputs": [],
   "source": [
    "output_data = {\n",
    "    'l_values': L_VALUES,\n",
    "    'inf_norms': inf_norms_per_L,\n",
    "    'mean_eigenvalues': mean_eigenvalues_per_L,\n",
    "    'std_eigenvalues': std_eigenvalues_per_L,\n",
    "    'config': {'N': N, 'D_IN': D_IN, 'RANDOM_SEED': RANDOM_SEED}\n",
    "}\n",
    "np.save(PATH_TO_DATA + f\"/k3_analysis_infinite_L_N={N}_D={D_IN}.npy\", output_data)\n",
    "print(\"k3 analysis data saved to \" + PATH_TO_DATA + f\"/k3_analysis_infinite_L_N={N}_D={D_IN}.npy\")"
   ]
  }
 ],
 "metadata": {
  "jupytext": {
   "cell_metadata_filter": "title,-all",
   "main_language": "python",
   "notebook_metadata_filter": "-all"
  }
 },
 "nbformat": 4,
 "nbformat_minor": 5
}
