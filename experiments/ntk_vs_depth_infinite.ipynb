{
 "cells": [
  {
   "cell_type": "code",
   "execution_count": null,
   "id": "870aef63",
   "metadata": {},
   "outputs": [],
   "source": [
    "import numpy as np\n",
    "import matplotlib.pyplot as plt\n",
    "import os\n",
    "from infinitewidth import InfiniteWidth # type: ignore"
   ]
  },
  {
   "cell_type": "code",
   "execution_count": null,
   "id": "0b250d9c",
   "metadata": {
    "lines_to_next_cell": 1
   },
   "outputs": [],
   "source": [
    "N = 100  # number of data points\n",
    "D_IN = 20  # input dim\n",
    "L_VALUES = np.linspace(2, 200, 10).astype(int)\n",
    "RANDOM_SEED = 42\n",
    "PATH_TO_PLOTS = \"/home/janis/STG3A/deeperorwider/experiments/plots\"\n",
    "PATH_TO_DATA = \"/home/janis/STG3A/deeperorwider/experiments/data\""
   ]
  },
  {
   "cell_type": "code",
   "execution_count": null,
   "id": "358eb917",
   "metadata": {
    "lines_to_next_cell": 1
   },
   "outputs": [],
   "source": [
    "def generate_data(key, n_samples, n_features):\n",
    "    \"\"\"generate random data and normalize it\"\"\"\n",
    "    # use np.random.RandomState for compatibility\n",
    "    rng = np.random.RandomState(key)\n",
    "    data = rng.randn(n_samples, n_features)\n",
    "    norm = np.linalg.norm(data, axis=1, keepdims=True)\n",
    "    return data / norm"
   ]
  },
  {
   "cell_type": "code",
   "execution_count": null,
   "id": "31daedb3",
   "metadata": {
    "lines_to_next_cell": 2
   },
   "outputs": [],
   "source": [
    "key_seed = RANDOM_SEED\n",
    "eigenvalues_per_L = []\n",
    "\n",
    "print(\"Starting the analysis of the eigenvalues of the NTK with the infinite width model...\")\n",
    "for L in L_VALUES:\n",
    "    print(f\"Computing for L = {L} layers...\")\n",
    "    eigenvalues_experiments = []\n",
    "\n",
    "    # this remains relu\n",
    "    infinite_ntk = InfiniteWidth(n_layers=L, n_outputs=1, a=1.0, b=1.0)\n",
    "        \n",
    "    data = generate_data(key_seed, N, D_IN)\n",
    "\n",
    "    # we compute the NTK matrix with the infinite width model now\n",
    "    k_matrix = infinite_ntk.kernel_matrix(data)\n",
    "                \n",
    "    eigenvalues = np.linalg.eigvalsh(k_matrix)\n",
    "    eigenvalues_experiments.append(eigenvalues)\n",
    "        \n",
    "    \n",
    "    mean_eigenvalues = np.mean(np.stack(eigenvalues_experiments), axis=0) # compute the mean of the eigenvalues\n",
    "    eigenvalues_per_L.append(mean_eigenvalues)\n",
    "\n",
    "if not os.path.exists(PATH_TO_PLOTS):\n",
    "    os.makedirs(PATH_TO_PLOTS)\n",
    "\n",
    "# we just! plot the histograms of the eigenvalues\n",
    "n_L = len(L_VALUES)\n",
    "fig, axes = plt.subplots(1, n_L, figsize=(5 * n_L, 4), sharey=True)\n",
    "fig.suptitle(f'Histogram of the mean eigenvalues of the NTK with the infinite width model')\n",
    "for i, L in enumerate(L_VALUES):\n",
    "    ax = axes[i]\n",
    "    \n",
    "    # BE CAREFUL : we remove the largest eigenvalue to avoid the scale issues\n",
    "    eigenvalues = eigenvalues_per_L[i].copy()  \n",
    "    eigenvalues = eigenvalues[eigenvalues != np.max(eigenvalues)]\n",
    "    ax.hist(eigenvalues, bins=100, density=True)  # histogram without max eigenvalue to avoid scale issues\n",
    "    ax.set_title(f\"Profondeur L = {L}\")\n",
    "    ax.set_xlabel(\"Valeur propre\")\n",
    "    ax.set_yscale('log')\n",
    "    #ax.set_xscale('log')\n",
    "axes[0].set_ylabel(\"Densité\")\n",
    "plt.tight_layout(rect=[0, 0.03, 1, 0.95])\n",
    "plt.savefig(PATH_TO_PLOTS + \"/ntk_infinite_eigenvalue_histograms.png\")\n",
    "print(\"Histograms of the eigenvalues saved in \" + PATH_TO_PLOTS + \"/ntk_infinite_eigenvalue_histograms.png\")\n",
    "\n",
    "# we will plot the k-th eigenvalue as a function of L\n",
    "eigenvalues_per_L = np.array(eigenvalues_per_L)\n",
    "\n",
    "plt.figure(figsize=(10, 6))\n",
    "plt.title(f\"Eigenvalues of the NTK with the infinite width model as a function of the depth of the network\")\n",
    "\n",
    "\n",
    "\n",
    "# plot the largest eigenvalues without the largest one\n",
    "for k in range(1, min(D_IN, N)): # we remove the largest that scale too much\n",
    "    plt.plot(L_VALUES, eigenvalues_per_L[:, -(k+1)], 'o-', label=f'λ_{k+1}')\n",
    "\n",
    "# and the smallest eigenvalue\n",
    "plt.plot(L_VALUES, eigenvalues_per_L[:, 0], 'o--', label=f'λ_min')\n",
    "\n",
    "plt.xlabel(\"Nombre de couches (L)\")\n",
    "plt.ylabel(\"Valeur propre moyenne\")\n",
    "plt.xticks(L_VALUES)\n",
    "plt.grid(True, which=\"both\", ls=\"--\")\n",
    "plt.legend()\n",
    "plt.savefig(PATH_TO_PLOTS + \"/kth_eigenvalue_vs_L_infinite.png\")\n",
    "print(\"Graphique de la k-ième valeur propre enregistré dans \" + PATH_TO_PLOTS + \"/kth_eigenvalue_vs_L_infinite.png\")"
   ]
  },
  {
   "cell_type": "code",
   "execution_count": null,
   "id": "b42c60e9",
   "metadata": {},
   "outputs": [],
   "source": [
    "plt.figure(figsize=(10, 6))\n",
    "plt.title(f\"Eigenvalues of the NTK with the infinite width model as a function of the depth of the network\")\n",
    "# plot the largest eigenvalue\n",
    "plt.plot(L_VALUES, eigenvalues_per_L[:, -1], 'o-', label=f'λ_max')\n",
    "plt.xlabel(\"Nombre de couches (L)\")\n",
    "plt.ylabel(\"Valeur propre moyenne\")\n",
    "plt.xticks(L_VALUES)\n",
    "plt.grid(True, which=\"both\", ls=\"--\")\n",
    "plt.legend()\n",
    "plt.savefig(PATH_TO_PLOTS + \"/largest_eigenvalue_vs_L_infinite.png\")\n",
    "print(\"Graphique de la k-ième valeur propre enregistré dans \" + PATH_TO_PLOTS + \"/largest_eigenvalue_vs_L_infinite.png\")\n",
    "\n",
    "\n",
    "\n",
    "# we store the compute config as a title also\n",
    "# we store as a npy file the eigenvalue matrix\n",
    "np.save(PATH_TO_DATA + f\"/eigenvalues_infinite_L={L_VALUES}_N={N}_D={D_IN}.npy\", eigenvalues_per_L)\n",
    "print(\"Eigenvalues matrix saved in \" + PATH_TO_DATA + f\"/eigenvalues_infinite_L={L_VALUES}_N={N}_D={D_IN}.npy\")"
   ]
  },
  {
   "cell_type": "code",
   "execution_count": null,
   "id": "100ae3fa",
   "metadata": {
    "lines_to_next_cell": 3
   },
   "outputs": [],
   "source": []
  }
 ],
 "metadata": {
  "jupytext": {
   "cell_metadata_filter": "-all",
   "main_language": "python",
   "notebook_metadata_filter": "-all"
  }
 },
 "nbformat": 4,
 "nbformat_minor": 5
}
