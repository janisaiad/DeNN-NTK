{
 "cells": [
  {
   "cell_type": "code",
   "execution_count": 13,
   "id": "060e01f7",
   "metadata": {},
   "outputs": [],
   "source": [
    "import jax\n",
    "import jax.numpy as jnp\n",
    "import numpy as np\n",
    "from jax import random\n",
    "import matplotlib.pyplot as plt\n",
    "import os\n",
    "import neural_tangents as nt\n",
    "from neural_tangents import stax"
   ]
  },
  {
   "cell_type": "code",
   "execution_count": 14,
   "id": "8bd72ce1",
   "metadata": {
    "lines_to_next_cell": 1
   },
   "outputs": [],
   "source": [
    "N = 100  # Number of data points\n",
    "D_IN = 10  # Input dimension\n",
    "M = 100  # Width of the network\n",
    "L_VALUES = jnp.linspace(10, 100, 20).astype(int)\n",
    "RANDOM_SEED = 42\n",
    "N_experiments = 10  # For eigenvalue mean computation"
   ]
  },
  {
   "cell_type": "code",
   "execution_count": 15,
   "id": "95a1ff7e",
   "metadata": {
    "lines_to_next_cell": 1
   },
   "outputs": [],
   "source": [
    "def generate_data(key, n_samples, n_features):\n",
    "    \"\"\"Generates random data and normalizes it.\"\"\"\n",
    "    data = random.normal(key, (n_samples, n_features))\n",
    "    norm = jnp.linalg.norm(data, axis=1, keepdims=True)\n",
    "    return data / norm"
   ]
  },
  {
   "cell_type": "code",
   "execution_count": 16,
   "id": "b46c0fd8",
   "metadata": {},
   "outputs": [
    {
     "name": "stdout",
     "output_type": "stream",
     "text": [
      "Starting NTK eigenvalue analysis using neural-tangents...\n",
      "Computing for L = 10 layers...\n"
     ]
    },
    {
     "ename": "AttributeError",
     "evalue": "module 'neural_tangents' has no attribute 'ntk_fn'",
     "output_type": "error",
     "traceback": [
      "\u001b[31m---------------------------------------------------------------------------\u001b[39m",
      "\u001b[31mAttributeError\u001b[39m                            Traceback (most recent call last)",
      "\u001b[36mCell\u001b[39m\u001b[36m \u001b[39m\u001b[32mIn[16]\u001b[39m\u001b[32m, line 25\u001b[39m\n\u001b[32m     22\u001b[39m init_fn, apply_fn, _ = stax.serial(*layers)\n\u001b[32m     23\u001b[39m params = init_fn(model_key, data.shape)[\u001b[32m1\u001b[39m]\n\u001b[32m---> \u001b[39m\u001b[32m25\u001b[39m ntk_fn = \u001b[43mnt\u001b[49m\u001b[43m.\u001b[49m\u001b[43mntk_fn\u001b[49m(apply_fn)\n\u001b[32m     26\u001b[39m k2_matrix = ntk_fn(data, \u001b[38;5;28;01mNone\u001b[39;00m, params)\n\u001b[32m     28\u001b[39m eigenvalues = jnp.linalg.eigvalsh(k2_matrix)\n",
      "\u001b[31mAttributeError\u001b[39m: module 'neural_tangents' has no attribute 'ntk_fn'"
     ]
    }
   ],
   "source": [
    "\n",
    "    \n",
    "key = random.PRNGKey(RANDOM_SEED)\n",
    "key, data_key = random.split(key)\n",
    "\n",
    "data = generate_data(data_key, N, D_IN)\n",
    "eigenvalues_per_L = []\n",
    "\n",
    "print(\"Starting NTK eigenvalue analysis using neural-tangents...\")\n",
    "for L in L_VALUES:\n",
    "    print(f\"Computing for L = {L} layers...\")\n",
    "    key, model_key = random.split(key)\n",
    "    \n",
    "    layers = []\n",
    "    layers.append(stax.Dense(M, W_std=jnp.sqrt(2), b_std=0.0, parameterization='ntk'))\n",
    "    layers.append(stax.Relu())\n",
    "    \n",
    "    for _ in range(L - 1):\n",
    "        layers.append(stax.Dense(M, W_std=jnp.sqrt(2), b_std=0.0, parameterization='ntk'))\n",
    "        layers.append(stax.Relu())\n",
    "        \n",
    "    layers.append(stax.Dense(1, W_std=jnp.sqrt(2), b_std=0.0, parameterization='ntk'))\n",
    "    \n",
    "    init_fn, apply_fn, _ = stax.serial(*layers)\n",
    "    params = init_fn(model_key, data.shape)[1]\n",
    "\n",
    "    ntk_fn = nt.empirical_ntk_fn(apply_fn)\n",
    "    k2_matrix = ntk_fn(data, None, params)\n",
    "    \n",
    "    eigenvalues = jnp.linalg.eigvalsh(k2_matrix)\n",
    "    eigenvalues_per_L.append(eigenvalues)\n",
    "\n",
    "if not os.path.exists('plots'):\n",
    "    os.makedirs('plots')\n",
    "\n",
    "# Plot eigenvalue histograms\n",
    "n_L = len(L_VALUES)\n",
    "fig, axes = plt.subplots(1, n_L, figsize=(5 * n_L, 4), sharey=True)\n",
    "fig.suptitle(f'Histogram of Empirical NTK Eigenvalues (width M={M})')\n",
    "for i, L in enumerate(L_VALUES):\n",
    "    ax = axes[i]\n",
    "    ax.hist(eigenvalues_per_L[i], bins='auto', density=True)\n",
    "    ax.set_title(f\"Depth L = {L}\")\n",
    "    ax.set_xlabel(\"Eigenvalue\")\n",
    "    ax.set_yscale('log') # for relu\n",
    "axes[0].set_ylabel(\"Density\")\n",
    "plt.tight_layout(rect=[0, 0.03, 1, 0.95])\n",
    "plt.savefig(\"plots/ntk_empirical_eigenvalue_histograms.png\")\n",
    "print(\"Saved eigenvalue histograms to plots/ntk_empirical_eigenvalue_histograms.png\")\n",
    "\n",
    "# Plot k-th eigenvalue vs L\n",
    "eigenvalues_per_L = np.array(eigenvalues_per_L)\n",
    "\n",
    "plt.figure(figsize=(10, 6))\n",
    "plt.title(f\"Top D_IN NTK Eigenvalues vs Network Depth (width M={M})\")\n",
    "'''\n",
    "for k in range(1, min(2*D_IN,N)):\n",
    "    plt.plot(L_VALUES, eigenvalues_per_L[:, -k], 'o-', label=f'λ_{k}')\n",
    "'''\n",
    "plt.plot(L_VALUES, eigenvalues_per_L[:, 0], 'o--', label=f'λ_min')\n",
    "\n",
    "plt.xlabel(\"Number of Layers (L)\")\n",
    "plt.ylabel(\"Eigenvalue\")\n",
    "# plt.yscale('log')\n",
    "plt.xticks(L_VALUES)\n",
    "plt.grid(True, which=\"both\", ls=\"--\")\n",
    "plt.legend()\n",
    "plt.show()\n",
    "# plt.savefig(\"plots/kth_eigenvalue_vs_L_empirical.png\")\n",
    "print(\"Saved k-th eigenvalue plot to plots/kth_eigenvalue_vs_L_empirical.png\")"
   ]
  },
  {
   "cell_type": "code",
   "execution_count": null,
   "id": "c578bbe9",
   "metadata": {},
   "outputs": [],
   "source": []
  },
  {
   "cell_type": "code",
   "execution_count": null,
   "id": "b92b7bb6",
   "metadata": {},
   "outputs": [],
   "source": []
  },
  {
   "cell_type": "code",
   "execution_count": null,
   "id": "73ea7493",
   "metadata": {},
   "outputs": [],
   "source": []
  }
 ],
 "metadata": {
  "jupytext": {
   "cell_metadata_filter": "-all",
   "main_language": "python",
   "notebook_metadata_filter": "-all"
  },
  "kernelspec": {
   "display_name": ".venv",
   "language": "python",
   "name": "python3"
  },
  "language_info": {
   "codemirror_mode": {
    "name": "ipython",
    "version": 3
   },
   "file_extension": ".py",
   "mimetype": "text/x-python",
   "name": "python",
   "nbconvert_exporter": "python",
   "pygments_lexer": "ipython3",
   "version": "3.11.11"
  }
 },
 "nbformat": 4,
 "nbformat_minor": 5
}
